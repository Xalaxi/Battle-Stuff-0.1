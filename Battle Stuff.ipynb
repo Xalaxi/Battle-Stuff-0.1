{
 "cells": [
  {
   "cell_type": "code",
   "execution_count": 4,
   "id": "f2ef7af7-4dda-47ac-b447-4bbb1b8d3e1d",
   "metadata": {},
   "outputs": [],
   "source": [
    "import numpy as np\n",
    "\n",
    "# 0 - Name\n",
    "# 1 - HP\n",
    "# 2 - Mana\n",
    "# 3 - STR\n",
    "# 4 - DEF\n",
    "# 5 - SPD\n",
    "\n",
    "def d(n):\n",
    "    # dice roller\n",
    "    return np.random.randint(0,n+1)\n",
    "\n",
    "def adv(n):\n",
    "    roll_1 = d(n)\n",
    "    roll_2 = d(n)\n",
    "    if roll_1 > roll_2:\n",
    "        return roll_1\n",
    "    else:\n",
    "        return roll_2\n",
    "\n",
    "def dis(n):\n",
    "    roll_1 = d(n)\n",
    "    roll_2 = d(n)\n",
    "    if roll_1 > roll_2:\n",
    "        return roll_2\n",
    "    else:\n",
    "        return roll_1\n",
    "\n",
    "def make_char(name, hp, mana, STR, DEF, SPD):\n",
    "    # always formate it NAME = make_char(...)\n",
    "    return [name,hp,mana,STR,DEF,SPD]\n",
    "\n",
    "def hit(attacker,defender):\n",
    "    # attacker's SPD + d20 vs defender's SPD + d20\n",
    "    return attacker[5] + d(20) >= defender[5] + d(20)\n",
    "\n",
    "def update_hp(defender, damage_dealt):\n",
    "    if damage_dealt <= 0:\n",
    "        return \"No damage dealt to \" + str(defender[0])\n",
    "    new_hp = defender[1]- damage_dealt\n",
    "    if new_hp <= 0:\n",
    "        defender[1] = 0\n",
    "        return str(defender[0]) + \" is dead\"\n",
    "    defender[1] = new_hp\n",
    "    return str(defender[0]) + \" lost \" + str(damage_dealt) + \" HP\"    \n",
    "\n",
    "def update_mana(mana,spell):\n",
    "    cost = SPELLBOOK_COSTS[SPELLBOOK_NAMES.index(spell)]\n",
    "    new_mana = mana - cost\n",
    "    if new_mana < 0:\n",
    "        return \"Out of Mana\"\n",
    "    else:\n",
    "        return new_mana\n",
    "\n",
    "def strike(attacker, defender):\n",
    "    if hit(attacker,defender) == False:\n",
    "        return \"Attack missed \" + str(defender[0])\n",
    "    else:\n",
    "        damage_dealt = (attacker[3]-defender[4])\n",
    "        return update_hp(defender, damage_dealt)\n",
    "\n",
    "# SPELLS - MELEE\n",
    "\n",
    "def smite(attacker, defender):\n",
    "    new_mana = update_mana(attacker[2], \"Smite\")\n",
    "    if new_mana == \"Out of Mana\":\n",
    "        return \"Not enough Mana!\"\n",
    "    attacker[2] = new_mana\n",
    "    if hit(attacker,defender) == False:\n",
    "        return \"Attack missed \" + str(defender[0])\n",
    "    else:\n",
    "        damage_dealt = (attacker[3]+d(4)-defender[4])\n",
    "        return update_hp(defender, damage_dealt)\n",
    "\n",
    "# SPELLS - RANGED\n",
    "\n",
    "def fire_blast(attacker, defender):\n",
    "    new_mana = update_mana(attacker[2], \"Fire Blast\")\n",
    "    if new_mana == \"Out of Mana\":\n",
    "        return \"Not enough Mana!\"\n",
    "    attacker[2] = new_mana\n",
    "    if hit(attacker,defender) == False:\n",
    "        return \"Attack missed \" + str(defender[0])\n",
    "    else:\n",
    "        damage_dealt = (attacker[3] + d(4) - defender[4])\n",
    "        return update_hp(defender, damage_dealt)\n",
    "\n",
    "def flamethrower(attacker, defender):\n",
    "    new_mana = update_mana(attacker[2], \"Flamethrower\")\n",
    "    if new_mana == \"Out of Mana\":\n",
    "        return \"Not enough Mana!\"\n",
    "    attacker[2] = new_mana\n",
    "    if hit(attacker,defender) == False:\n",
    "        return \"Attack missed \" + str(defender[0])\n",
    "    else:\n",
    "        damage_dealt = (attacker[3] + d(4) + d(4) - defender[4])\n",
    "        return update_hp(defender, damage_dealt)\n",
    "\n",
    "def ice_blast(attacker, defender):\n",
    "    new_mana = update_mana(attacker[2], \"Ice Blast\")\n",
    "    if new_mana == \"Out of Mana\":\n",
    "        return \"Not enough Mana!\"\n",
    "    attacker[2] = new_mana\n",
    "    if hit(attacker,defender) == False:\n",
    "        return \"Attack missed \" + str(defender[0])\n",
    "    else:\n",
    "        damage_dealt = (attacker[3] + d(4) - defender[4])\n",
    "        return update_hp(defender, damage_dealt)\n",
    "    \n",
    "def icy_wind(attacker, defender):\n",
    "    new_mana = update_mana(attacker[2], \"Icy Wind\")\n",
    "    if new_mana == \"Out of Mana\":\n",
    "        return \"Not enough Mana!\"\n",
    "    attacker[2] = new_mana\n",
    "    if hit(attacker,defender) == False:\n",
    "        return \"Attack missed \" + str(defender[0])\n",
    "    else:\n",
    "        damage_dealt = (attacker[3] + d(4) + d(4) - defender[4])\n",
    "        return update_hp(defender, damage_dealt)\n",
    "\n",
    "# SPELLS LIST\n",
    "\n",
    "SPELLBOOK_NAMES = [\"Fire Blast\",\"Flamethrower\",\n",
    "                  \"Ice Blast\",\"Icy Wind\",\n",
    "                  \"Smite\"]\n",
    "SPELLBOOK_COSTS = [4,5,\n",
    "                   3,4,\n",
    "                  3]\n"
   ]
  },
  {
   "cell_type": "code",
   "execution_count": 16,
   "id": "6b810ed1-997f-4f1c-b183-755e39496e68",
   "metadata": {},
   "outputs": [
    {
     "name": "stdout",
     "output_type": "stream",
     "text": [
      "Steve HP = 10 Bob HP = 7\n",
      "Bob is dead\n",
      "Steve HP = 10 Bob HP = 0\n"
     ]
    }
   ],
   "source": [
    "Test = make_char(\"Test\", 1,2,3,4,5)\n",
    "\n",
    "# %%\n",
    "Bob = make_char(\"Bob\", 7, 4, 1,1,3)\n",
    "Steve = make_char(\"Steve\", 10, 6, 4,4,6)\n",
    "\n",
    "print(\"Steve HP = \" + str(Steve[1]),\n",
    "      \"Bob HP = \" + str(Bob[1]))\n",
    "print(icy_wind(Steve,Bob))\n",
    "print(\"Steve HP = \" + str(Steve[1]),\n",
    "      \"Bob HP = \" + str(Bob[1]))\n"
   ]
  },
  {
   "cell_type": "code",
   "execution_count": 5,
   "id": "d2f0f193-9619-4b8e-9828-cf09941e5f1e",
   "metadata": {},
   "outputs": [
    {
     "name": "stdout",
     "output_type": "stream",
     "text": [
      "['Armaan', 10, 8, 6, 7, 4]\n",
      "['Ani', 17, 9, 3, 7, 4]\n",
      "['Hasan', 11, 8, 9, 8, 9]\n"
     ]
    }
   ],
   "source": [
    "# MAKE CHARACTER HERE\n",
    "\n",
    "# TEMPLATE: NAME = make_char(\"NAME\", adv(10)+d(8), adv(10)+d(8), adv(8) + d(4), adv(8) + d(4), adv(6) + d(4)) \n",
    "\n",
    "Armaan = make_char(\"Armaan\", adv(10)+d(8), adv(10)+d(8), adv(8) + d(4), adv(8) + d(4), adv(6) + d(4)) \n",
    "Ani = make_char(\"Ani\", adv(10)+d(8), adv(10)+d(8), adv(8) + d(4), adv(8) + d(4), adv(6) + d(4))\n",
    "Hasan = make_char(\"Hasan\", adv(10)+d(8), adv(10)+d(8), adv(8) + d(4), adv(8) + d(4), adv(6) + d(4))\n",
    "\n",
    "print(Armaan)\n",
    "print(Ani)\n",
    "print(Hasan)"
   ]
  },
  {
   "cell_type": "code",
   "execution_count": 11,
   "id": "0e4d5928-7316-4b1b-846d-cbec265f2ce7",
   "metadata": {},
   "outputs": [
    {
     "name": "stdout",
     "output_type": "stream",
     "text": [
      "Attack missed Armaan\n",
      "['Hasan', 11, 2, 9, 8, 9]\n",
      "['Armaan', 10, 8, 6, 7, 4]\n"
     ]
    }
   ],
   "source": [
    "# ROUND ONE\n",
    "\n",
    "print(smite(Hasan,Armaan))\n",
    "print(Hasan)\n",
    "print(Armaan)"
   ]
  },
  {
   "cell_type": "code",
   "execution_count": 12,
   "id": "e10f7cc9-585b-42c9-8e32-1d2d94b2337b",
   "metadata": {},
   "outputs": [
    {
     "name": "stdout",
     "output_type": "stream",
     "text": [
      "Attack missed Hasan\n",
      "['Hasan', 11, 2, 9, 8, 9]\n",
      "['Armaan', 10, 3, 6, 7, 4]\n"
     ]
    }
   ],
   "source": [
    "# ROUND TWO\n",
    "\n",
    "print(flamethrower(Armaan,Hasan))\n",
    "print(Hasan)\n",
    "print(Armaan)"
   ]
  },
  {
   "cell_type": "code",
   "execution_count": 14,
   "id": "2292ba6a-db84-4d40-a68a-bcc6549c3a0d",
   "metadata": {},
   "outputs": [
    {
     "name": "stdout",
     "output_type": "stream",
     "text": [
      "Not enough Mana!\n",
      "['Hasan', 11, 2, 9, 8, 9]\n",
      "['Armaan', 10, 3, 6, 7, 4]\n"
     ]
    }
   ],
   "source": [
    "# ROUND THREE\n",
    "\n",
    "print(ice_blast(Hasan,Armaan))\n",
    "print(Hasan)\n",
    "print(Armaan)"
   ]
  }
 ],
 "metadata": {
  "kernelspec": {
   "display_name": "Python 3 (ipykernel)",
   "language": "python",
   "name": "python3"
  },
  "language_info": {
   "codemirror_mode": {
    "name": "ipython",
    "version": 3
   },
   "file_extension": ".py",
   "mimetype": "text/x-python",
   "name": "python",
   "nbconvert_exporter": "python",
   "pygments_lexer": "ipython3",
   "version": "3.9.6"
  }
 },
 "nbformat": 4,
 "nbformat_minor": 5
}
